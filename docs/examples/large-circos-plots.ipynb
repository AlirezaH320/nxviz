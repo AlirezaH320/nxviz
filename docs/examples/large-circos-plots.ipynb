{
 "cells": [
  {
   "cell_type": "markdown",
   "id": "skilled-mechanism",
   "metadata": {},
   "source": [
    "## How to plot large graphs"
   ]
  },
  {
   "cell_type": "code",
   "execution_count": null,
   "id": "interpreted-fireplace",
   "metadata": {
    "tags": []
   },
   "outputs": [],
   "source": [
    "from random import choice\n",
    "\n",
    "import networkx as nx\n",
    "import numpy as np\n",
    "from tqdm.auto import tqdm"
   ]
  },
  {
   "cell_type": "code",
   "execution_count": null,
   "id": "beautiful-powell",
   "metadata": {
    "tags": []
   },
   "outputs": [],
   "source": [
    "categories = \"abcdefghijk\"\n",
    "node_categories = \"12345\"\n",
    "\n",
    "G = nx.erdos_renyi_graph(n=3000, p=0.1)\n",
    "for u, v in tqdm(G.edges()):\n",
    "    G.edges[u, v][\"group\"] = choice(categories)\n",
    "    G.edges[u, v][\"edge_val\"] = np.random.exponential()\n",
    "\n",
    "for n in tqdm(G.nodes()):\n",
    "    G.nodes[n][\"category\"] = choice(node_categories)\n",
    "    G.nodes[n][\"value\"] = np.random.normal()"
   ]
  },
  {
   "cell_type": "markdown",
   "id": "raised-plymouth",
   "metadata": {},
   "source": [
    "That graph above takes a lot of time to plot.\n",
    "I'm not even going to try :)."
   ]
  },
  {
   "cell_type": "code",
   "execution_count": null,
   "id": "isolated-building",
   "metadata": {},
   "outputs": [],
   "source": [
    "import nxviz as nv"
   ]
  },
  {
   "cell_type": "markdown",
   "id": "silent-steel",
   "metadata": {},
   "source": [
    "The key difficulty here is that we have lots of individual glyphs to plot to the screen.\n",
    "Instead of doing that, we could take advantage of higher order metadata.\n",
    "One particular way that we can draw the network\n",
    "is by mapping out the strength of connections between\n",
    "_groups of nodes_ rather than between individual nodes."
   ]
  },
  {
   "cell_type": "code",
   "execution_count": null,
   "id": "verbal-support",
   "metadata": {
    "tags": []
   },
   "outputs": [],
   "source": [
    "from nxviz import utils"
   ]
  },
  {
   "cell_type": "code",
   "execution_count": null,
   "id": "removed-tutorial",
   "metadata": {
    "tags": []
   },
   "outputs": [],
   "source": [
    "nt = utils.node_table(G)"
   ]
  },
  {
   "cell_type": "code",
   "execution_count": null,
   "id": "efficient-gateway",
   "metadata": {
    "tags": []
   },
   "outputs": [],
   "source": [
    "et = utils.edge_table(G)"
   ]
  },
  {
   "cell_type": "markdown",
   "id": "smoking-boutique",
   "metadata": {
    "tags": []
   },
   "source": [
    "To draw large graphs using the same design ideas as the circos plots,\n",
    "but made scalable instead, we will take advantage of known node groupings\n",
    "to produce an informative plot.\n",
    "The first piece of information that we need\n",
    "is the proportion of each node category."
   ]
  },
  {
   "cell_type": "code",
   "execution_count": null,
   "id": "russian-measurement",
   "metadata": {
    "tags": []
   },
   "outputs": [],
   "source": [
    "import pandas as pd\n",
    "\n",
    "proportions = nt[\"category\"].value_counts(normalize=True).sort_index()\n",
    "end_angles = proportions.cumsum() * 360\n",
    "start_angles = end_angles - proportions * 360\n",
    "start_angles, end_angles"
   ]
  },
  {
   "cell_type": "markdown",
   "id": "large-anthony",
   "metadata": {},
   "source": [
    "We also need to prepare the colors."
   ]
  },
  {
   "cell_type": "code",
   "execution_count": null,
   "id": "threatened-springer",
   "metadata": {
    "tags": []
   },
   "outputs": [],
   "source": [
    "import matplotlib.pyplot as plt\n",
    "from matplotlib import patches\n",
    "\n",
    "from nxviz import aesthetics as aes\n",
    "from nxviz.plots import aspect_equal, despine, rescale"
   ]
  },
  {
   "cell_type": "code",
   "execution_count": null,
   "id": "characteristic-rapid",
   "metadata": {
    "tags": []
   },
   "outputs": [],
   "source": [
    "colors = aes.data_color(pd.Series(start_angles.index))\n",
    "colors.index = start_angles.index\n",
    "\n",
    "\n",
    "plot_data = pd.DataFrame(\n",
    "    {\"start_angle\": start_angles, \"end_angle\": end_angles, \"color\": colors}\n",
    ")\n",
    "plot_data"
   ]
  },
  {
   "cell_type": "code",
   "execution_count": null,
   "id": "presidential-distributor",
   "metadata": {
    "tags": []
   },
   "outputs": [],
   "source": [
    "fig, ax = plt.subplots()\n",
    "\n",
    "for d in plot_data.itertuples(index=False):\n",
    "    w = patches.Wedge(\n",
    "        center=(0, 0),\n",
    "        r=10,\n",
    "        theta1=d.start_angle,\n",
    "        theta2=d.end_angle,\n",
    "        color=d.color,\n",
    "        width=0.5,\n",
    "    )\n",
    "    ax.add_patch(w)\n",
    "\n",
    "\n",
    "# Draw one path patch\n",
    "\n",
    "\n",
    "ax.set_xlim(-10, 10)\n",
    "ax.set_ylim(-10, 10)\n",
    "\n",
    "aspect_equal()\n",
    "despine()"
   ]
  },
  {
   "cell_type": "markdown",
   "id": "objective-possibility",
   "metadata": {},
   "source": [
    "Now, we have to draw in edges as _bands with area_ rather than as lines.\n",
    "With these bands, we start by identifying the edges\n",
    "that originate from one group of nodes and conclude in other groups of nodes.\n",
    "Using this information, we can then count the number of edges, and thus the proportion of edges."
   ]
  },
  {
   "cell_type": "code",
   "execution_count": null,
   "id": "married-extent",
   "metadata": {
    "tags": []
   },
   "outputs": [],
   "source": [
    "get_cartesian(0, theta=(target_end + 2 * np.pi) / 2)"
   ]
  },
  {
   "cell_type": "code",
   "execution_count": null,
   "id": "monetary-laptop",
   "metadata": {},
   "outputs": [],
   "source": [
    "def clockwise_angle(theta1, theta2):\n",
    "    \"\"\"Obtain the clockwise angle to go from theta1 to theta2.\"\"\"\n",
    "    if theta2 < theta1:\n",
    "        theta2 = 2 * np.pi + theta2\n",
    "    return theta2 - theta1"
   ]
  },
  {
   "cell_type": "code",
   "execution_count": null,
   "id": "abandoned-religious",
   "metadata": {
    "tags": []
   },
   "outputs": [],
   "source": [
    "target_end + clockwise_angle(target_end, source_start) / 2"
   ]
  },
  {
   "cell_type": "code",
   "execution_count": null,
   "id": "overhead-passport",
   "metadata": {
    "tags": []
   },
   "outputs": [],
   "source": [
    "angle = target_end + clockwise_angle(target_end, source_start) / 2"
   ]
  },
  {
   "cell_type": "code",
   "execution_count": null,
   "id": "stable-vintage",
   "metadata": {
    "tags": []
   },
   "outputs": [],
   "source": [
    "get_cartesian(0, theta=angle)"
   ]
  },
  {
   "cell_type": "code",
   "execution_count": null,
   "id": "strong-helmet",
   "metadata": {
    "tags": []
   },
   "outputs": [],
   "source": [
    "get_cartesian(1, 2 * np.pi)"
   ]
  },
  {
   "cell_type": "code",
   "execution_count": null,
   "id": "quiet-china",
   "metadata": {
    "tags": []
   },
   "outputs": [],
   "source": [
    "get_cartesian(\n",
    "    0.1, theta=target_end + clockwise_angle(target_end, source_start) / 2\n",
    ")"
   ]
  },
  {
   "cell_type": "code",
   "execution_count": null,
   "id": "7e7a5413-016d-4f80-bc68-3c3e1e33e9bf",
   "metadata": {},
   "outputs": [],
   "source": [
    "from matplotlib.path import Path"
   ]
  },
  {
   "cell_type": "code",
   "execution_count": null,
   "id": "522dea14-3c3d-44a9-b25e-99b38319d45f",
   "metadata": {
    "tags": []
   },
   "outputs": [],
   "source": [
    "r = 0.8\n",
    "source_start = 0\n",
    "source_end = np.pi / 4\n",
    "target_start = 3 * np.pi / 4\n",
    "target_end = 3 * np.pi / 2\n",
    "\n",
    "p1 = Path.arc(theta1=np.rad2deg(source_start), theta2=np.rad2deg(source_end))\n",
    "p2 = Path.arc(theta1=np.rad2deg(target_start), theta2=np.rad2deg(target_end))\n",
    "p1._vertices, p1._codes, p2._vertices, p2._codes"
   ]
  },
  {
   "cell_type": "markdown",
   "id": "6e53b4b3-301f-4628-8feb-bfbcbebc284e",
   "metadata": {},
   "source": [
    "The arc vertices can be multiplied by the radius `r` to get the actual arc radius."
   ]
  },
  {
   "cell_type": "code",
   "execution_count": null,
   "id": "e4581e6d-4ff4-43f5-b720-091b56be7ab5",
   "metadata": {
    "tags": []
   },
   "outputs": [],
   "source": [
    "\n",
    "\n",
    "fig, ax = plt.subplots()\n",
    "ax.add_patch(fill)\n",
    "ax.set_xlim(-1, 1)\n",
    "ax.set_ylim(-1, 1)\n",
    "\n",
    "aspect_equal()\n",
    "despine()"
   ]
  },
  {
   "cell_type": "code",
   "execution_count": null,
   "id": "dominant-reporter",
   "metadata": {
    "tags": []
   },
   "outputs": [],
   "source": [
    "from matplotlib.path import Path\n",
    "\n",
    "from nxviz.geometry import get_cartesian\n",
    "\n",
    "\n",
    "def circos_bundle_patch(\n",
    "    r: float,\n",
    "    source_start: float,\n",
    "    source_end: float,\n",
    "    target_start: float,\n",
    "    target_end: float,\n",
    ") -> patches.PathPatch:\n",
    "    \"\"\"Return the matplotlib patch that draws a circos edge bundle.\n",
    "    \n",
    "    A circos edge bundle is defined as a bundle of edges\n",
    "    that are drawn from one node to another. \n",
    "    \n",
    "    ## Parameters:\n",
    "    \n",
    "    - `r`: Circos plot radius.\n",
    "    - `source_start`: Start angle for source group, in radians.\n",
    "    - `source_end`: End angle for source group, in radians.\n",
    "    - `target_start`: Start angle for target group, in radians.\n",
    "    - `target_end`: End angle for target group, in radians.\n",
    "    \"\"\"\n",
    "    \n",
    "    vertices = []\n",
    "    codes = []\n",
    "    p1 = Path.arc(theta1=np.rad2deg(source_start), theta2=np.rad2deg(source_end))\n",
    "    vertices.extend(p1._vertices * r)\n",
    "    codes.extend(p1._codes)\n",
    "\n",
    "    source_target_midpoint = get_cartesian(\n",
    "        0.0,\n",
    "        theta=source_end + clockwise_angle(source_end, target_start) / 2,\n",
    "    )\n",
    "    vertices.append(source_target_midpoint)\n",
    "    codes.append(Path.CURVE3)\n",
    "\n",
    "    target_start_point = get_cartesian(r, theta=target_start)\n",
    "    vertices.append(target_start_point)\n",
    "    codes.append(Path.CURVE3)\n",
    "\n",
    "    p2 = Path.arc(theta1=np.rad2deg(target_start), theta2=np.rad2deg(target_end))\n",
    "    vertices.extend(p2._vertices * r)\n",
    "    codes.extend(p2._codes)\n",
    "\n",
    "    target_source_midpoint = get_cartesian(\n",
    "        0.0,\n",
    "        theta=target_end + clockwise_angle(target_end, source_start) / 2,\n",
    "    )\n",
    "    vertices.append(target_source_midpoint)\n",
    "    codes.append(Path.CURVE3)\n",
    "\n",
    "    source_start_point = get_cartesian(r, theta=source_start)\n",
    "    vertices.append(source_start_point)\n",
    "    codes.append(Path.CURVE3)\n",
    "\n",
    "    path = Path(vertices, codes)\n",
    "    fill = patches.PathPatch(path, alpha=0.1, ec=\"none\")\n",
    "    return fill"
   ]
  },
  {
   "cell_type": "code",
   "execution_count": null,
   "id": "interpreted-comparison",
   "metadata": {
    "tags": []
   },
   "outputs": [],
   "source": [
    "fig, ax = plt.subplots()\n",
    "\n",
    "\n",
    "#### These define the inputs\n",
    "r = 0.8\n",
    "source_start = 0\n",
    "source_end = np.pi / 4\n",
    "target_start = 3 * np.pi / 4\n",
    "target_end = 3 * np.pi / 2\n",
    "\n",
    "#### Next question is: how do we calculate source_start, source_end, target_start, and target_end?\n",
    "\n",
    "fill = circos_bundle_patch(r, source_start, source_end, target_start, target_end)\n",
    "ax.add_patch(fill)\n",
    "ax.set_xlim([-1, 1])\n",
    "ax.set_ylim([-1, 1])\n",
    "\n",
    "aspect_equal()\n",
    "despine()"
   ]
  },
  {
   "cell_type": "markdown",
   "id": "28f8af02-e317-4007-ac58-24d1114a1e10",
   "metadata": {},
   "source": [
    "Now, let me try combining the two together."
   ]
  },
  {
   "cell_type": "code",
   "execution_count": null,
   "id": "8eb12b16-9737-464f-8f80-73161d315b90",
   "metadata": {
    "tags": []
   },
   "outputs": [],
   "source": [
    "fig, ax = plt.subplots()\n",
    "\n",
    "\n",
    "#### These define the inputs\n",
    "r = 10\n",
    "source_start = 0\n",
    "source_end = np.pi / 4\n",
    "target_start = 3 * np.pi / 4\n",
    "target_end = 3 * np.pi / 2\n",
    "\n",
    "#### Next question is: how do we calculate source_start, source_end, target_start, and target_end?\n",
    "\n",
    "for d in plot_data.itertuples(index=False):\n",
    "    w = patches.Wedge(\n",
    "        center=(0, 0),\n",
    "        r=r,\n",
    "        theta1=d.start_angle,\n",
    "        theta2=d.end_angle,\n",
    "        color=d.color,\n",
    "        width=0.5,\n",
    "    )\n",
    "    ax.add_patch(w)\n",
    "\n",
    "fill = circos_bundle_patch(r-0.5, source_start, source_end, target_start, target_end)\n",
    "ax.add_patch(fill)\n",
    "ax.set_xlim([-1, 1])\n",
    "ax.set_ylim([-1, 1])\n",
    "\n",
    "aspect_equal()\n",
    "\n",
    "ax.set_xlim(-10, 10)\n",
    "ax.set_ylim(-10, 10)\n",
    "\n",
    "aspect_equal()\n",
    "# despine()"
   ]
  },
  {
   "cell_type": "markdown",
   "id": "9065422b-fcfa-4425-bba6-86f6657d6f25",
   "metadata": {},
   "source": [
    "OK, let me summarize what that function above has done.\n",
    "\n",
    "We have leveraged the matplotlib Path object to create paths.\n",
    "Each path is parameterized by a set of vertices (i.e. points) and movement codes.\n",
    "You can think of it as being like a pen that is commanded to move to a certain point,\n",
    "then asked to draw lines to another point.\n",
    "Arcs, which occur along the circumference of the circle, are not trivial to draw using Bezier curves,\n",
    "so we use `Path.arc` to draw those, scaling the vertices by the radius desired.\n",
    "Bezier curves, by contrast, are used to draw the internal lines.\n",
    "\n",
    "OK, now we have to solve the problem of drawing each bundle of edges.\n",
    "The proportion of edges between each group should dictate the arcs, I think."
   ]
  },
  {
   "cell_type": "code",
   "execution_count": null,
   "id": "blind-parade",
   "metadata": {
    "tags": []
   },
   "outputs": [],
   "source": [
    "nt_idx = nt.reset_index().rename({\"index\": \"node\"}, axis=1)\n",
    "grouped_edge_counts = (\n",
    "    et.merge(nt_idx, left_on=\"source\", right_on=\"node\")\n",
    "    .rename({\"category\": \"source_category\"}, axis=1)\n",
    "    .merge(nt_idx, left_on=\"target\", right_on=\"node\")\n",
    "    .rename({\"category\": \"target_category\"}, axis=1)\n",
    "    .groupby([\"source_category\", \"target_category\"])\n",
    "    .count()\n",
    ")[\"group\"]\n",
    "\n",
    "\n",
    "# division by two (i.e. multiply by 180) necessary because each edge occupies a fraction of the whole circle twice\n",
    "# - once for the source\n",
    "# - once for the target\n",
    "edge_arc_angles = (grouped_edge_counts / grouped_edge_counts.sum()) * 180\n",
    "edge_arc_angles"
   ]
  },
  {
   "cell_type": "markdown",
   "id": "51e72261-2239-4a76-a6a2-b2629a8acfc7",
   "metadata": {},
   "source": []
  }
 ],
 "metadata": {
  "kernelspec": {
   "display_name": "nxviz",
   "language": "python",
   "name": "nxviz"
  },
  "language_info": {
   "codemirror_mode": {
    "name": "ipython",
    "version": 3
   },
   "file_extension": ".py",
   "mimetype": "text/x-python",
   "name": "python",
   "nbconvert_exporter": "python",
   "pygments_lexer": "ipython3",
   "version": "3.9.2"
  }
 },
 "nbformat": 4,
 "nbformat_minor": 5
}
